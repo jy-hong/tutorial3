{
 "cells": [
  {
   "cell_type": "markdown",
   "metadata": {},
   "source": [
    "# Hello"
   ]
  },
  {
   "cell_type": "code",
   "execution_count": 1,
   "metadata": {},
   "outputs": [],
   "source": [
    "from ipywidgets import interact, widgets\n",
    "from IPython.core.display import display, HTML"
   ]
  },
  {
   "cell_type": "code",
   "execution_count": 2,
   "metadata": {},
   "outputs": [],
   "source": [
    "def square(x):\n",
    "    return x*x\n",
    "\n",
    "def friends(name, number):\n",
    "    html = ''\n",
    "    html+=\"<span style='background-color:rgba(255, 99, 71, 0.6)'>{} </span>\".format(name) + ' has'\n",
    "    html+=\"<span style='background-color:rgba(255, 99, 71, 0.6)'>{} </span>\".format(number) + ' friends!'\n",
    "    return(display(HTML(html)))"
   ]
  },
  {
   "cell_type": "code",
   "execution_count": 3,
   "metadata": {},
   "outputs": [
    {
     "data": {
      "application/vnd.jupyter.widget-view+json": {
       "model_id": "40f67fa0ab9943eb942f9be091613fc4",
       "version_major": 2,
       "version_minor": 0
      },
      "text/plain": [
       "interactive(children=(IntSlider(value=50, description='x', step=10), Output()), _dom_classes=('widget-interact…"
      ]
     },
     "metadata": {},
     "output_type": "display_data"
    }
   ],
   "source": [
    "interact(square, x=(0,100,10));"
   ]
  },
  {
   "cell_type": "code",
   "execution_count": 4,
   "metadata": {},
   "outputs": [
    {
     "data": {
      "application/vnd.jupyter.widget-view+json": {
       "model_id": "8e32ebef716a4b788e01776df0fed198",
       "version_major": 2,
       "version_minor": 0
      },
      "text/plain": [
       "interactive(children=(Text(value='Jiyeon', description='name'), IntSlider(value=5, description='number', max=1…"
      ]
     },
     "metadata": {},
     "output_type": "display_data"
    }
   ],
   "source": [
    "interact(friends, name='Jiyeon', number=(0,10,1));"
   ]
  },
  {
   "cell_type": "markdown",
   "metadata": {},
   "source": [
    "## Good morning"
   ]
  },
  {
   "cell_type": "code",
   "execution_count": 5,
   "metadata": {},
   "outputs": [
    {
     "data": {
      "application/vnd.jupyter.widget-view+json": {
       "model_id": "efccf605b4044cb39bb7205dd41442af",
       "version_major": 2,
       "version_minor": 0
      },
      "text/plain": [
       "Textarea(value='', description='How are you', placeholder='Type something')"
      ]
     },
     "metadata": {},
     "output_type": "display_data"
    }
   ],
   "source": [
    "widgets.Textarea(\n",
    "    placeholder='Type something',\n",
    "    description='How are you',\n",
    "    disabled=False\n",
    ")"
   ]
  },
  {
   "cell_type": "markdown",
   "metadata": {},
   "source": [
    "## Good afternoon"
   ]
  },
  {
   "cell_type": "code",
   "execution_count": 6,
   "metadata": {},
   "outputs": [
    {
     "data": {
      "application/vnd.jupyter.widget-view+json": {
       "model_id": "e50d05f38bda4fe4a85a7093ce23766f",
       "version_major": 2,
       "version_minor": 0
      },
      "text/plain": [
       "Text(value='', description='Memo:', placeholder='Type anything!')"
      ]
     },
     "metadata": {},
     "output_type": "display_data"
    }
   ],
   "source": [
    "# from ipywidgets import interact, widgets\n",
    "# from IPython.display import display\n",
    "\n",
    "text = widgets.Text(\n",
    "    #value='last',\n",
    "    placeholder='Type anything!',\n",
    "    description='Memo:',\n",
    "    disabled=False\n",
    ")\n",
    "display(text)\n",
    "\n",
    "def callback(wdgt):\n",
    "    # replace by something useful\n",
    "    display(wdgt.value)\n",
    "\n",
    "text.on_submit(callback)"
   ]
  },
  {
   "cell_type": "markdown",
   "metadata": {},
   "source": [
    "## Good evening"
   ]
  },
  {
   "cell_type": "code",
   "execution_count": 7,
   "metadata": {},
   "outputs": [
    {
     "data": {
      "application/vnd.jupyter.widget-view+json": {
       "model_id": "ae599a8794f141ee9e6035e7f5b98594",
       "version_major": 2,
       "version_minor": 0
      },
      "text/plain": [
       "Label(value='First input')"
      ]
     },
     "metadata": {},
     "output_type": "display_data"
    },
    {
     "data": {
      "application/vnd.jupyter.widget-view+json": {
       "model_id": "b0f52edcd3e74285ac8a321f078abcef",
       "version_major": 2,
       "version_minor": 0
      },
      "text/plain": [
       "Textarea(value='', description='Name:', placeholder='Type something')"
      ]
     },
     "metadata": {},
     "output_type": "display_data"
    },
    {
     "data": {
      "application/vnd.jupyter.widget-view+json": {
       "model_id": "5aaa5c2ea55c485ebb6136a5c41e05a4",
       "version_major": 2,
       "version_minor": 0
      },
      "text/plain": [
       "Label(value='Second input')"
      ]
     },
     "metadata": {},
     "output_type": "display_data"
    },
    {
     "data": {
      "application/vnd.jupyter.widget-view+json": {
       "model_id": "0b8b7040f61245dda204d1763dc2e152",
       "version_major": 2,
       "version_minor": 0
      },
      "text/plain": [
       "Textarea(value='', description='Name:', placeholder='Type something')"
      ]
     },
     "metadata": {},
     "output_type": "display_data"
    },
    {
     "data": {
      "application/vnd.jupyter.widget-view+json": {
       "model_id": "bce28e9f01d4473e8571ee741704185e",
       "version_major": 2,
       "version_minor": 0
      },
      "text/plain": [
       "Button(description='Submit', style=ButtonStyle())"
      ]
     },
     "metadata": {},
     "output_type": "display_data"
    },
    {
     "data": {
      "application/vnd.jupyter.widget-view+json": {
       "model_id": "21001e2512b14d4aa5bbadb73840ac07",
       "version_major": 2,
       "version_minor": 0
      },
      "text/plain": [
       "Label(value='Result :')"
      ]
     },
     "metadata": {},
     "output_type": "display_data"
    }
   ],
   "source": [
    "lab1 = widgets.Label('First input')\n",
    "display(lab1)\n",
    "text1 = widgets.Textarea(placeholder='Type something', description='Name:', disabled=False)\n",
    "# text1 = widgets.Text()\n",
    "display(text1)\n",
    "\n",
    "lab2 = widgets.Label('Second input')\n",
    "display(lab2)\n",
    "text2 = widgets.Textarea(placeholder='Type something', description='Name:', disabled=False)\n",
    "display(text2)\n",
    "\n",
    "button = widgets.Button(description='Submit')\n",
    "display(button)\n",
    "\n",
    "lab3 = widgets.Label('Result :')\n",
    "display(lab3)\n",
    "\n",
    "def submit(b):\n",
    "    name1 = str(text1.value)\n",
    "    name2 = str(text2.value)\n",
    "    #lab3.value = HTML(\"<span style='background-color:rgba(255, 99, 71, 0.6)'>{} </span>\".format(name1) + 'and' + \"<span style='background-color:rgba(255, 99, 71, 0.6)'>{} </span>\".format(name2))\n",
    "    return(display(HTML(\"<span style='background-color:rgba(255, 99, 71, 0.6)'>{} </span>\".format(name1) + 'and' + \"<span style='background-color:rgba(255, 99, 71, 0.6)'>{} </span>\".format(name2))))\n",
    "    #return(display(lab3.value))\n",
    "\n",
    "button.on_click(submit)    "
   ]
  }
 ],
 "metadata": {
  "kernelspec": {
   "display_name": "Python 3",
   "language": "python",
   "name": "python3"
  },
  "language_info": {
   "codemirror_mode": {
    "name": "ipython",
    "version": 3
   },
   "file_extension": ".py",
   "mimetype": "text/x-python",
   "name": "python",
   "nbconvert_exporter": "python",
   "pygments_lexer": "ipython3",
   "version": "3.7.8"
  }
 },
 "nbformat": 4,
 "nbformat_minor": 4
}
